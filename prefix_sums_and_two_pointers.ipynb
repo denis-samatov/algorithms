{
  "nbformat": 4,
  "nbformat_minor": 0,
  "metadata": {
    "colab": {
      "provenance": [],
      "collapsed_sections": [
        "lJ93pVglrpk5",
        "kRKcruHDr5Yv",
        "aFz_PiXpu8Jr",
        "bR5lQnYFxLxm",
        "hBEZ5Dn6xp29",
        "TDnGkywgzTkD",
        "_OBuZdx50Ccv"
      ]
    },
    "kernelspec": {
      "name": "python3",
      "display_name": "Python 3"
    },
    "language_info": {
      "name": "python"
    }
  },
  "cells": [
    {
      "cell_type": "markdown",
      "source": [
        "# Префиксные суммы\n",
        "\n",
        "Префиксные суммы (prefix sums) — это техника, используемая для эффективного вычисления суммы элементов подмассивов в массиве. Эта техника особенно полезна, когда требуется многократно вычислять суммы элементов на подотрезках одного и того же массива.\n",
        "\n",
        "# Основные идеи и свойства префиксных сумм:\n",
        "\n",
        "1. **Определение:**\n",
        "   Префиксная сумма для массива \\( arr \\) — это массив \\( prefix \\), где \\( prefix[i] \\) представляет собой сумму элементов от начала массива до индекса \\( i \\) включительно.\n",
        "   Формально:\n",
        "   \\[\n",
        "   prefix[i] = \\sum_{j=0}^{i} arr[j]\n",
        "   \\]\n",
        "\n",
        "2. **Построение префиксных сумм:**\n",
        "   - Префиксные суммы строятся за линейное время \\( O(N) \\), где \\( N \\) — длина массива.\n",
        "   - Для построения достаточно выполнить один проход по исходному массиву и на каждом шаге накапливать сумму элементов.\n",
        "\n",
        "3. **Использование префиксных сумм:**\n",
        "   - После построения префиксных сумм любую сумму подмассива \\( arr[l:r] \\) можно вычислить за константное время \\( O(1) \\):\n",
        "     \\[\n",
        "     \\text{sum}_{l:r} = prefix[r] - prefix[l-1], \\quad \\text{если } l > 0\n",
        "     \\]\n",
        "     \\[\n",
        "     \\text{sum}_{l:r} = prefix[r], \\quad \\text{если } l = 0\n",
        "     \\]\n",
        "   - Это возможно благодаря тому, что \\( prefix[i] \\) содержит сумму элементов от начала массива до индекса \\( i \\).\n",
        "\n",
        "\n",
        "# Применение префиксных сумм:\n",
        "\n",
        "- **Вычисление сумм на подотрезках массива** — префиксные суммы значительно ускоряют процесс вычисления сумм на подмассивах.\n",
        "- **Решение задач на суммы** — многие алгоритмические задачи, связанные с массивами и подмассивами, могут быть эффективно решены с использованием префиксных сумм.\n",
        "- **Поиск частых встречающихся элементов** — префиксные суммы могут использоваться для подсчета частоты встречаемости элементов в массиве.\n",
        "\n",
        "Префиксные суммы представляют собой мощный инструмент для работы с массивами, который значительно улучшает производительность операций, связанных с вычислением сумм на подмассивах."
      ],
      "metadata": {
        "id": "O4XyFK4XrY1b"
      }
    },
    {
      "cell_type": "markdown",
      "source": [
        "# Задачи"
      ],
      "metadata": {
        "id": "lJ93pVglrpk5"
      }
    },
    {
      "cell_type": "markdown",
      "source": [
        "### Условие задачи\n",
        "\n",
        "Реализовать вычисление суммы элементов на подотрезке массива (Range Sum Query, RSQ) с использованием префиксных сумм.\n",
        "\n",
        "### Описание алгоритма\n",
        "\n",
        "1. **Построение префиксных сумм:**\n",
        "   - Создается массив `prefixsum`, где `prefixsum[i]` будет содержать сумму элементов массива `nums` от начала до индекса `i`.\n",
        "   - Префиксная сумма для элемента `prefixsum[0]` равна 0 (это условие удобно для обобщения).\n",
        "\n",
        "2. **Вычисление RSQ:**\n",
        "   - Функция `rsq(prefixsum, l, r)` принимает массив `prefixsum` и границы подотрезка `[l, r]`.\n",
        "   - Сумма на подотрезке `[l, r]` вычисляется как разность `prefixsum[r + 1] - prefixsum[l]`.\n",
        "   - Это работает, потому что `prefixsum[r + 1]` содержит сумму элементов от начала массива до `r`, а `prefixsum[l]` содержит сумму элементов от начала массива до `l-1`.\n"
      ],
      "metadata": {
        "id": "kRKcruHDr5Yv"
      }
    },
    {
      "cell_type": "code",
      "execution_count": 1,
      "metadata": {
        "colab": {
          "base_uri": "https://localhost:8080/"
        },
        "id": "4SPwtsQppmKi",
        "outputId": "8f9a3878-ec17-42ab-8295-8b3585d64130"
      },
      "outputs": [
        {
          "output_type": "stream",
          "name": "stdout",
          "text": [
            "Сумма элементов на подотрезке [2, 5]: 32\n"
          ]
        }
      ],
      "source": [
        "def make_prefix_sum(nums):\n",
        "    prefix_sum = [0] * (len(nums) + 1)\n",
        "    for i in range(1, len(nums) + 1):\n",
        "        prefix_sum[i] = prefix_sum[i - 1] + nums[i - 1]\n",
        "    return prefix_sum\n",
        "\n",
        "def rsq(prefix_sum, l, r):\n",
        "    return prefix_sum[r + 1] - prefix_sum[l]\n",
        "\n",
        "# Пример использования\n",
        "nums = [1, 3, 5, 7, 9, 11, 13]\n",
        "prefix_sum = make_prefix_sum(nums)\n",
        "\n",
        "# Вычисление RSQ для интервала [2, 5]\n",
        "l, r = 2, 5\n",
        "result = rsq(prefix_sum, l, r)\n",
        "print(f\"Сумма элементов на подотрезке [{l}, {r}]: {result}\")"
      ]
    },
    {
      "cell_type": "markdown",
      "source": [
        "### Условие задачи\n",
        "\n",
        "Необходимо подсчитать количество нулей в массиве `nums` для каждого запроса, заданного диапазоном `[l, r)`.\n",
        "\n",
        "### Описание алгоритма\n",
        "\n",
        "Данный алгоритм решает задачу подсчета количества нулей на заданном подотрезке массива. В худшем случае каждый запрос может занимать время \\(O(N)\\), что делает общий алгоритм \\(O(NM)\\) для \\(M\\) запросов.\n",
        "\n"
      ],
      "metadata": {
        "id": "aFz_PiXpu8Jr"
      }
    },
    {
      "cell_type": "code",
      "source": [
        "def count_zeroes(nums, l, r):\n",
        "    cnt = 0\n",
        "    for i in range(l, r):\n",
        "        if nums[i] == 0:\n",
        "            cnt += 1\n",
        "    return cnt\n",
        "\n",
        "# Пример использования\n",
        "nums = [1, 0, 5, 0, 0, 3, 0, 9]\n",
        "queries = [(1, 4), (2, 6), (0, 8)]\n",
        "\n",
        "for l, r in queries:\n",
        "    result = count_zeroes(nums, l, r)\n",
        "    print(f\"Количество нулей на подотрезке [{l}, {r}): {result}\")"
      ],
      "metadata": {
        "colab": {
          "base_uri": "https://localhost:8080/"
        },
        "id": "dRg9kle3vFw7",
        "outputId": "ec7e8575-577f-4448-833c-585e49b77741"
      },
      "execution_count": 2,
      "outputs": [
        {
          "output_type": "stream",
          "name": "stdout",
          "text": [
            "Количество нулей на подотрезке [1, 4): 2\n",
            "Количество нулей на подотрезке [2, 6): 2\n",
            "Количество нулей на подотрезке [0, 8): 4\n"
          ]
        }
      ]
    },
    {
      "cell_type": "markdown",
      "source": [
        "**Оптимизация**\n",
        "\n",
        "Хотя приведенный алгоритм работает, его сложность \\(O(NM)\\) может быть неприемлемой для больших массивов и большого числа запросов. Для оптимизации можно использовать префиксные суммы, которые позволят обрабатывать каждый запрос за \\(O(1)\\) после предварительной обработки массива за \\(O(N)\\).\n",
        "\n",
        "**Оптимизация с использованием префиксных сумм**\n",
        "\n",
        "1. **Построение префиксной суммы нулей**:\n",
        "   - Создаем массив `prefix_zeros`, где `prefix_zeros[i]` содержит количество нулей в массиве `nums` от начала до индекса `i`.\n",
        "\n",
        "2. **Вычисление префиксной суммы**:\n",
        "   - Итерируемся по массиву и заполняем массив `prefix_zeros`.\n",
        "\n",
        "3. **Обработка запросов**:\n",
        "   - Для каждого запроса `[l, r)` количество нулей вычисляется как `prefix_zeros[r] - prefix_zeros[l]`.\n",
        "\n"
      ],
      "metadata": {
        "id": "sfP629RzvJdn"
      }
    },
    {
      "cell_type": "code",
      "source": [
        "def build_prefix_zeros(nums):\n",
        "    prefix_zeros = [0] * (len(nums) + 1)\n",
        "    for i in range(1, len(nums) + 1):\n",
        "        prefix_zeros[i] = prefix_zeros[i - 1]\n",
        "        if nums[i - 1] == 0:\n",
        "            prefix_zeros[i] += 1\n",
        "    return prefix_zeros\n",
        "\n",
        "def count_zeroes_optimized(prefix_zeros, l, r):\n",
        "    return prefix_zeros[r] - prefix_zeros[l]\n",
        "\n",
        "# Пример использования\n",
        "nums = [1, 0, 5, 0, 0, 3, 0, 9]\n",
        "queries = [(1, 4), (2, 6), (0, 8)]\n",
        "\n",
        "prefix_zeros = build_prefix_zeros(nums)\n",
        "\n",
        "for l, r in queries:\n",
        "    result = count_zeroes_optimized(prefix_zeros, l, r)\n",
        "    print(f\"Количество нулей на подотрезке [{l}, {r}): {result}\")"
      ],
      "metadata": {
        "colab": {
          "base_uri": "https://localhost:8080/"
        },
        "id": "1zhc23-ivGJA",
        "outputId": "3519709b-1057-441c-8c65-249320778fbb"
      },
      "execution_count": 4,
      "outputs": [
        {
          "output_type": "stream",
          "name": "stdout",
          "text": [
            "Количество нулей на подотрезке [1, 4): 2\n",
            "Количество нулей на подотрезке [2, 6): 2\n",
            "Количество нулей на подотрезке [0, 8): 4\n"
          ]
        }
      ]
    },
    {
      "cell_type": "markdown",
      "source": [
        "### Условие задачи\n",
        "\n",
        "Дан массив чисел длиной \\( N \\). Необходимо найти количество подотрезков (отрезков с непрерывными элементами) с нулевой суммой.\n",
        "\n",
        "### Описание алгоритма\n",
        "\n",
        "#### Решение за \\( O(N) \\) с использованием префиксных сумм:\n",
        "\n",
        "1. **Префиксные суммы:**\n",
        "   - Вычисляем префиксные суммы для массива `nums`. Префиксная сумма на позиции `i` равна сумме всех элементов массива от начала до `i`.\n",
        "   - Используем словарь `prefixsumbyvalue`, где ключами являются значения префиксных сумм, а значениями — количество раз, которое каждая префиксная сумма встречается.\n",
        "\n",
        "2. **Подсчет количества отрезков с нулевой суммой:**\n",
        "   - Для каждой префиксной суммы `nowsum` из словаря `prefixsumbyvalue` вычисляем количество способов выбрать два различных индекса `i` и `j` таких, что префиксные суммы на этих индексах равны `nowsum`. Это количество равно \\( \\frac{\\text{cntsum} \\cdot (\\text{cntsum} - 1)}{2} \\), где `cntsum` — количество раз, которое встречается префиксная сумма `nowsum`.\n",
        "\n",
        "3. **Временная сложность:**\n",
        "   - Построение префиксных сумм занимает \\( O(N) \\).\n",
        "   - Подсчет количества отрезков с нулевой суммой также занимает \\( O(N) \\), так как мы проходимся по словарю `prefixsumbyvalue`.\n",
        "   - Общая временная сложность алгоритма составляет \\( O(N) \\).\n"
      ],
      "metadata": {
        "id": "bR5lQnYFxLxm"
      }
    },
    {
      "cell_type": "code",
      "source": [
        "def count_zero_sum_ranges(nums):\n",
        "    # Step 1: Calculate prefix sums and store their frequencies in a dictionary\n",
        "    prefixsumbyvalue = {0: 1}\n",
        "    nowsum = 0\n",
        "    for now in nums:\n",
        "        nowsum += now\n",
        "        if nowsum not in prefixsumbyvalue:\n",
        "            prefixsumbyvalue[nowsum] = 0\n",
        "        prefixsumbyvalue[nowsum] += 1\n",
        "\n",
        "    # Step 2: Count zero sum ranges using prefix sum frequencies\n",
        "    cntranges = 0\n",
        "    for nowsum in prefixsumbyvalue:\n",
        "        cntsum = prefixsumbyvalue[nowsum]\n",
        "        cntranges += cntsum * (cntsum - 1) // 2\n",
        "\n",
        "    return cntranges\n",
        "\n",
        "# Пример использования\n",
        "nums = [2, -3, 1, 0, 4, -1]\n",
        "result = count_zero_sum_ranges(nums)\n",
        "print(f\"Количество отрезков с нулевой суммой: {result}\")"
      ],
      "metadata": {
        "colab": {
          "base_uri": "https://localhost:8080/"
        },
        "id": "mbt9GpMIxPeC",
        "outputId": "aa69ea81-8aca-447e-ce99-828e261fcb3d"
      },
      "execution_count": 5,
      "outputs": [
        {
          "output_type": "stream",
          "name": "stdout",
          "text": [
            "Количество отрезков с нулевой суммой: 3\n"
          ]
        }
      ]
    },
    {
      "cell_type": "markdown",
      "source": [
        "### Условие задачи\n",
        "\n",
        "Дан отсортированный массив целых чисел `sortednums` и число `k`. Необходимо найти количество уникальных пар `(i, j)` таких, что `0 <= i < j < len(sortednums)` и `sortednums[j] - sortednums[i] > k`.\n",
        "\n",
        "### Описание алгоритма\n",
        "\n",
        "1. **Итерация по элементам:**\n",
        "   - Используется два указателя: `first` (начало потенциальной пары) и `last` (конец потенциальной пары).\n",
        "   - `first` перебирает каждый элемент массива `sortednums` по очереди.\n",
        "\n",
        "2. **Нахождение подходящих пар:**\n",
        "   - Для текущего `first` увеличиваем `last`, пока разница между `sortednums[last]` и `sortednums[first]` не превышает `k`.\n",
        "   - Количество подходящих пар для текущего `first` вычисляется как `len(sortednums) - last`. Это работает потому, что все элементы `sortednums[last]`, где `last >= j`, удовлетворяют условию `sortednums[last] - sortednums[first] > k`.\n",
        "\n",
        "3. **Суммирование количества пар:**\n",
        "   - Добавляем количество найденных пар для текущего `first` к общему счетчику `cntpairs`.\n",
        "\n",
        "4. **Возвращение результата:**\n",
        "   - Возвращаем общее количество найденных пар `cntpairs`.\n"
      ],
      "metadata": {
        "id": "hBEZ5Dn6xp29"
      }
    },
    {
      "cell_type": "code",
      "source": [
        "def count_pairs_with_difference_greater_than_k(sortednums, k):\n",
        "    cntpairs = 0\n",
        "    last = 0\n",
        "    for first in range(len(sortednums)):\n",
        "        while last < len(sortednums) and sortednums[last] - sortednums[first] <= k:\n",
        "            last += 1\n",
        "        cntpairs += len(sortednums) - last\n",
        "    return cntpairs\n",
        "\n",
        "# Пример использования\n",
        "sortednums = [1, 3, 5, 7, 8]\n",
        "k = 4\n",
        "result = count_pairs_with_difference_greater_than_k(sortednums, k)\n",
        "print(f\"Количество пар с разницей больше {k}: {result}\")"
      ],
      "metadata": {
        "colab": {
          "base_uri": "https://localhost:8080/"
        },
        "id": "REhhZGcjxP9S",
        "outputId": "ea6a58cb-daa4-4b56-9e13-ffb5132d1ea9"
      },
      "execution_count": 9,
      "outputs": [
        {
          "output_type": "stream",
          "name": "stdout",
          "text": [
            "Количество пар с разницей больше 4: 3\n"
          ]
        }
      ]
    },
    {
      "cell_type": "markdown",
      "source": [
        "### Условие задачи\n",
        "\n",
        "Дан массив `players`, где каждый элемент представляет собой силу игрока. Необходимо найти максимальную сумму подмассива `players[i:j]`, где для любых двух последовательных игроков `players[k]` и `players[k+1]`, выполняется условие `players[k] + players[k+1] >= players[k+2]`.\n",
        "\n",
        "### Описание алгоритма\n",
        "\n",
        "1. **Итерация по элементам:**\n",
        "   - Используем два указателя: `first` (начало потенциального подмассива) и `last` (конец текущего подмассива).\n",
        "   - `first` перебирает каждый элемент массива `players` по очереди.\n",
        "\n",
        "2. **Накопление текущей суммы:**\n",
        "   - Для каждого `first`, `last` увеличивается до тех пор, пока условие `players[first] + players[first+1] >= players[last]` выполняется или `last` не достигнет конца массива.\n",
        "\n",
        "3. **Обновление лучшей суммы:**\n",
        "   - Если текущая сумма `nowsum` (сумма элементов от `first` до `last-1`) больше текущей `bestsum`, обновляем `bestsum`.\n",
        "\n",
        "4. **Сдвиг `first` и обновление `nowsum`:**\n",
        "   - После того как условие не выполнено для текущего `first`, вычитаем `players[first]` из `nowsum`, чтобы перейти к следующему `first`.\n",
        "\n",
        "5. **Возврат результата:**\n",
        "   - В конце возвращаем `bestsum`, который и будет максимальной суммой подмассива, удовлетворяющего условию.\n",
        "\n"
      ],
      "metadata": {
        "id": "TDnGkywgzTkD"
      }
    },
    {
      "cell_type": "code",
      "source": [
        "def best_team_sum(players):\n",
        "    bestsum = 0\n",
        "    nowsum = 0\n",
        "    last = 0\n",
        "\n",
        "    for first in range(len(players)):\n",
        "        while last < len(players) and (last == first or players[first] + players[first + 1] >= players[last]):\n",
        "            nowsum += players[last]\n",
        "            last += 1\n",
        "        bestsum = max(bestsum, nowsum)\n",
        "        nowsum -= players[first]\n",
        "\n",
        "    return bestsum\n",
        "\n",
        "# Пример использования\n",
        "players = [1, 3, 5, 2, 4, 6]\n",
        "result = best_team_sum(players)\n",
        "print(f\"Максимальная сумма для лучшей команды: {result}\")  # Ожидаемый вывод: 12"
      ],
      "metadata": {
        "colab": {
          "base_uri": "https://localhost:8080/"
        },
        "id": "Cgl6TMAexuKa",
        "outputId": "903419ce-f6a9-477c-9bd8-f579a2c225ef"
      },
      "execution_count": 11,
      "outputs": [
        {
          "output_type": "stream",
          "name": "stdout",
          "text": [
            "Максимальная сумма для лучшей команды: 20\n"
          ]
        }
      ]
    },
    {
      "cell_type": "markdown",
      "source": [
        "**Объяснение работы**\n",
        "\n",
        "- В примере выше, для массива `players = [1, 3, 5, 2, 4, 6]`:\n",
        "  - На первом шаге `first = 0`. Подмассив `[1, 3]` удовлетворяет условию (1 + 3 >= 5), поэтому `nowsum = 4`.\n",
        "  - На втором шаге `first = 1`. Подмассив `[3, 5]` также удовлетворяет условию (3 + 5 >= 2), поэтому `nowsum = 12`, что является максимальной суммой для лучшей команды.\n",
        "\n",
        "Этот алгоритм эффективно находит максимальную сумму подмассива, удовлетворяющего условию задачи, за время \\( O(N) \\), где \\( N \\) — длина массива `players`, благодаря эффективному использованию двух указателей."
      ],
      "metadata": {
        "id": "RMf2Z0ybzdnU"
      }
    },
    {
      "cell_type": "markdown",
      "source": [
        "### Условие задачи\n",
        "\n",
        "Даны две отсортированные последовательности чисел (длиной N и М соответственно)\n",
        "Необходимо слить их в одну отсортированную последовательность.\n",
        "\n",
        "### Описание алгоритма\n",
        "\n",
        "Данная функция `merge(nums1, nums2)` сливает два отсортированных массива `nums1` и `nums2` в один отсортированный массив `merged`.\n",
        "\n",
        "1. **Инициализация переменных:**\n",
        "   - `merged` инициализируется массивом нулей длины, равной суммарной длине `nums1` и `nums2`.\n",
        "   - `first1` и `first2` — указатели на начало `nums1` и `nums2` соответственно, инициализируются нулевыми значениями.\n",
        "\n",
        "2. **Слияние массивов:**\n",
        "   - Используется переменная `k` для отслеживания текущей позиции в массиве `merged`.\n",
        "   - Пока один из указателей (`first1` или `first2`) не достиг конца своего массива:\n",
        "     - Если `first1` указывает на элемент `nums1`, который меньше или равен элементу `nums2`, на который указывает `first2`, этот элемент добавляется в `merged`, и `first1` сдвигается на следующий элемент в `nums1`.\n",
        "     - В противном случае, если элемент `nums2[first2]` меньше, чем `nums1[first1]`, он добавляется в `merged`, и `first2` сдвигается на следующий элемент в `nums2`.\n",
        "\n",
        "3. **Обработка оставшихся элементов:**\n",
        "   - Если в одном из массивов (`nums1` или `nums2`) остались элементы после завершения основного цикла, они добавляются в `merged` с помощью дополнительного цикла `while`.\n",
        "\n",
        "4. **Возврат результата:**\n",
        "   - Возвращается массив `merged`, содержащий объединение отсортированных массивов `nums1` и `nums2`."
      ],
      "metadata": {
        "id": "_OBuZdx50Ccv"
      }
    },
    {
      "cell_type": "code",
      "source": [
        "def merge(nums1, nums2):\n",
        "    merged = [0] * (len(nums1) + len(nums2))  # Создаем массив для объединенных результатов\n",
        "    first1 = first2 = 0  # Указатели на начало nums1 и nums2\n",
        "\n",
        "    # Итерируемся по merged и сравниваем элементы из nums1 и nums2\n",
        "    for k in range(len(nums1) + len(nums2)):\n",
        "        if first1 < len(nums1) and (first2 >= len(nums2) or nums1[first1] <= nums2[first2]):\n",
        "            merged[k] = nums1[first1]  # Добавляем элемент из nums1 в merged\n",
        "            first1 += 1  # Сдвигаем указатель первого массива\n",
        "        else:\n",
        "            merged[k] = nums2[first2]  # Добавляем элемент из nums2 в merged\n",
        "            first2 += 1  # Сдвигаем указатель второго массива\n",
        "\n",
        "    return merged\n",
        "\n",
        "# Пример использования\n",
        "nums1 = [1, 3, 5, 7]\n",
        "nums2 = [2, 4, 6, 8, 9]\n",
        "result = merge(nums1, nums2)\n",
        "print(\"Объединенный отсортированный массив:\", result)"
      ],
      "metadata": {
        "colab": {
          "base_uri": "https://localhost:8080/"
        },
        "id": "KsoBycz40TBo",
        "outputId": "353ff327-af6c-42c7-dc21-11de44272372"
      },
      "execution_count": 18,
      "outputs": [
        {
          "output_type": "stream",
          "name": "stdout",
          "text": [
            "Объединенный отсортированный массив: [1, 2, 3, 4, 5, 6, 7, 8, 9]\n"
          ]
        }
      ]
    },
    {
      "cell_type": "code",
      "source": [],
      "metadata": {
        "id": "i063tvz90WW2"
      },
      "execution_count": null,
      "outputs": []
    }
  ]
}